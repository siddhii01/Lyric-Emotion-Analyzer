{
  "nbformat": 4,
  "nbformat_minor": 0,
  "metadata": {
    "colab": {
      "provenance": [],
      "gpuType": "T4"
    },
    "kernelspec": {
      "name": "python3",
      "display_name": "Python 3"
    },
    "language_info": {
      "name": "python"
    },
    "accelerator": "GPU"
  },
  "cells": [
    {
      "cell_type": "code",
      "execution_count": null,
      "metadata": {
        "colab": {
          "base_uri": "https://localhost:8080/"
        },
        "id": "CygnWoAQ-g6z",
        "outputId": "b03529b9-7afd-48c5-fc8d-f5fcd3eeae3b"
      },
      "outputs": [
        {
          "output_type": "stream",
          "name": "stdout",
          "text": [
            "Requirement already satisfied: nltk in /usr/local/lib/python3.10/dist-packages (3.8.1)\n",
            "Requirement already satisfied: gensim in /usr/local/lib/python3.10/dist-packages (4.3.3)\n",
            "Requirement already satisfied: requests in /usr/local/lib/python3.10/dist-packages (2.32.3)\n",
            "Requirement already satisfied: click in /usr/local/lib/python3.10/dist-packages (from nltk) (8.1.7)\n",
            "Requirement already satisfied: joblib in /usr/local/lib/python3.10/dist-packages (from nltk) (1.4.2)\n",
            "Requirement already satisfied: regex>=2021.8.3 in /usr/local/lib/python3.10/dist-packages (from nltk) (2024.9.11)\n",
            "Requirement already satisfied: tqdm in /usr/local/lib/python3.10/dist-packages (from nltk) (4.66.5)\n",
            "Requirement already satisfied: numpy<2.0,>=1.18.5 in /usr/local/lib/python3.10/dist-packages (from gensim) (1.26.4)\n",
            "Requirement already satisfied: scipy<1.14.0,>=1.7.0 in /usr/local/lib/python3.10/dist-packages (from gensim) (1.13.1)\n",
            "Requirement already satisfied: smart-open>=1.8.1 in /usr/local/lib/python3.10/dist-packages (from gensim) (7.0.5)\n",
            "Requirement already satisfied: charset-normalizer<4,>=2 in /usr/local/lib/python3.10/dist-packages (from requests) (3.4.0)\n",
            "Requirement already satisfied: idna<4,>=2.5 in /usr/local/lib/python3.10/dist-packages (from requests) (3.10)\n",
            "Requirement already satisfied: urllib3<3,>=1.21.1 in /usr/local/lib/python3.10/dist-packages (from requests) (2.2.3)\n",
            "Requirement already satisfied: certifi>=2017.4.17 in /usr/local/lib/python3.10/dist-packages (from requests) (2024.8.30)\n",
            "Requirement already satisfied: wrapt in /usr/local/lib/python3.10/dist-packages (from smart-open>=1.8.1->gensim) (1.16.0)\n"
          ]
        }
      ],
      "source": [
        "!pip install nltk gensim requests\n"
      ]
    },
    {
      "cell_type": "code",
      "source": [
        "import tensorflow as tf\n",
        "print(\"GPU in use: \", tf.config.list_physical_devices('GPU'))\n"
      ],
      "metadata": {
        "colab": {
          "base_uri": "https://localhost:8080/"
        },
        "id": "aoBb5m2M-1NE",
        "outputId": "27783962-430f-4ec0-d914-327465873fc9"
      },
      "execution_count": null,
      "outputs": [
        {
          "output_type": "stream",
          "name": "stdout",
          "text": [
            "GPU in use:  [PhysicalDevice(name='/physical_device:GPU:0', device_type='GPU')]\n"
          ]
        }
      ]
    },
    {
      "cell_type": "code",
      "source": [
        "!pip install beautifulsoup4\n"
      ],
      "metadata": {
        "colab": {
          "base_uri": "https://localhost:8080/"
        },
        "id": "opzkHmFYA-NF",
        "outputId": "d1057609-e7c5-4815-d9f0-c45f591b55c0"
      },
      "execution_count": null,
      "outputs": [
        {
          "output_type": "stream",
          "name": "stdout",
          "text": [
            "Requirement already satisfied: beautifulsoup4 in /usr/local/lib/python3.10/dist-packages (4.12.3)\n",
            "Requirement already satisfied: soupsieve>1.2 in /usr/local/lib/python3.10/dist-packages (from beautifulsoup4) (2.6)\n"
          ]
        }
      ]
    },
    {
      "cell_type": "code",
      "source": [
        "import requests\n",
        "from bs4 import BeautifulSoup\n",
        "\n",
        "# Genius API base URL and token (replace with your actual token)\n",
        "GENIUS_API_TOKEN = 'imHckxi7H3AyiX8EOxaZDFEqRgL3Vk-4WdlRiBvsl-49xf5JNjPYReEMJw8pyLtd'\n",
        "base_url = \"https://api.genius.com\"\n",
        "\n",
        "# Function to search for songs on Genius\n",
        "def search_song(song_title, artist_name):\n",
        "    search_url = base_url + \"/search\"\n",
        "    headers = {'Authorization': 'Bearer ' + GENIUS_API_TOKEN}\n",
        "    params = {'q': song_title + ' ' + artist_name}\n",
        "    response = requests.get(search_url, headers=headers, params=params)\n",
        "    return response.json()\n",
        "\n",
        "# Function to get the song's lyrics URL from Genius\n",
        "def get_song_lyrics(song_title, artist_name):\n",
        "    song_data = search_song(song_title, artist_name)\n",
        "    song_info = None\n",
        "    for hit in song_data['response']['hits']:\n",
        "        if artist_name.lower() in hit['result']['primary_artist']['name'].lower():\n",
        "            song_info = hit\n",
        "            break\n",
        "\n",
        "    if song_info:\n",
        "        return song_info['result']['url']  # This is the Genius lyrics URL\n",
        "    else:\n",
        "        return None\n",
        "\n",
        "def scrape_lyrics(song_title, artist_name):\n",
        "    # Replace spaces with hyphens for the URL (common format in song URLs)\n",
        "    song_title_url = song_title.replace(\" \", \"-\").lower()\n",
        "    artist_name_url = artist_name.replace(\" \", \"-\").lower()\n",
        "\n",
        "    # Construct the URL for the lyrics page on Genius\n",
        "    url = f\"https://genius.com/{artist_name_url}-{song_title_url}-lyrics\"\n",
        "\n",
        "    # Send a GET request to fetch the HTML content\n",
        "    response = requests.get(url)\n",
        "\n",
        "    # Check if the request was successful\n",
        "    if response.status_code == 200:\n",
        "        # Parse the HTML content with BeautifulSoup\n",
        "        soup = BeautifulSoup(response.text, 'html.parser')\n",
        "\n",
        "        # Find the lyrics container\n",
        "        lyrics_container = soup.find('div', class_='Lyrics__Container-sc-1ynbvzw-6') or \\\n",
        "                          soup.find('div', class_='lyrics') or \\\n",
        "                          soup.find('div', class_='Lyrics__Root-sc-1ynbvzw-0')\n",
        "\n",
        "        if lyrics_container:\n",
        "            # Extract and clean the lyrics text\n",
        "            lyrics = lyrics_container.get_text(separator='\\n')\n",
        "            return lyrics.strip()  # Strip any leading/trailing whitespace\n",
        "        else:\n",
        "            return \"Lyrics container not found.\"\n",
        "    else:\n",
        "        return f\"Failed to retrieve the lyrics. Status code: {response.status_code}\"\n",
        "\n",
        "# Taking user input for song title and artist name\n",
        "song_title = input(\"Enter the song title: \")\n",
        "artist_name = input(\"Enter the artist name: \")\n",
        "\n",
        "# Fetching lyrics URL\n",
        "lyrics_url = get_song_lyrics(song_title, artist_name)\n",
        "\n",
        "if lyrics_url:\n",
        "    print(f\"Lyrics URL for '{song_title}' by {artist_name}: {lyrics_url}\")\n",
        "    # Scraping lyrics\n",
        "    lyrics = scrape_lyrics(song_title, artist_name)  # Fixed function call\n",
        "    print(f\"Lyrics for '{song_title}' by {artist_name}:\\n{lyrics}\")\n",
        "else:\n",
        "    print(f\"Lyrics not found for '{song_title}' by {artist_name}\")\n"
      ],
      "metadata": {
        "colab": {
          "base_uri": "https://localhost:8080/"
        },
        "id": "fTq5RqxqBP8Z",
        "outputId": "455b0761-16ec-4b99-f4b7-8924c2e2641d"
      },
      "execution_count": null,
      "outputs": [
        {
          "output_type": "stream",
          "name": "stdout",
          "text": [
            "Enter the song title: Shape of You\n",
            "Enter the artist name: Ed Sheeran\n",
            "Lyrics URL for 'Shape of You' by Ed Sheeran: https://genius.com/Ed-sheeran-shape-of-you-lyrics\n",
            "Lyrics for 'Shape of You' by Ed Sheeran:\n",
            "360 Contributors\n",
            "Translations\n",
            "Türkçe\n",
            "Español\n",
            "Português\n",
            "Ελληνικά\n",
            "Deutsch\n",
            "Français\n",
            "Italiano\n",
            "العربية\n",
            "Polski\n",
            "한국어\n",
            "Српски\n",
            "Shape of You Lyrics\n",
            "[Verse 1]\n",
            "A club isn't the best place to find a lover\n",
            "So the bar is where I go (Mm)\n",
            "Me and my friends at the table doin' shots\n",
            "Drinkin' fast and then we talk slow (Mm)\n",
            "And you come over and start up a conversation with just me\n",
            "And trust me, I'll give it a chance now (Mm)\n",
            "Take my hand, stop, put Van the Man on the jukebox\n",
            "And then we start to dance and now I'm singin' like\n",
            "[Pre-Chorus]\n",
            "Girl, you know I want your love\n",
            "Your love was handmade for somebody like me\n",
            "Well, come on now, follow my lead\n",
            "I may be crazy, don't mind me\n",
            "Say, \"Boy, let's not talk too much\"\n",
            "Grab on my waist and put that body on me\n",
            "Well, come on now, follow my lead\n",
            "Come, come on now, follow my lead, mm\n",
            "[Chorus]\n",
            "I'm in love with the shape of you\n",
            "We push and pull like a magnet do\n",
            "Although my heart is fallin' too\n",
            "I'm in love with your body\n",
            "And last night, you were in my room\n",
            "And now my bed sheets smell like you\n",
            "Every day, discoverin' somethin' brand new\n",
            "Well, I'm in love with your body\n",
            "See Ed Sheeran Live\n",
            "Get tickets as low as $136\n",
            "You might also like\n",
            "[Post-Chorus]\n",
            "Oh, I, oh, I, oh, I, oh, I\n",
            "Well, I'm in love with your body\n",
            "Oh, I, oh, I, oh, I, oh, I\n",
            "Well, I'm in love with your body\n",
            "Oh, I, oh, I, oh, I, oh, I\n",
            "Well, I'm in love with your body\n",
            "Every day, discoverin' somethin' brand new\n",
            "I'm in love with the shape of you\n",
            "[Verse 2]\n",
            "One week in, we let the story begin\n",
            "We're goin' out on our first date (Mm)\n",
            "You and me are thrifty, so go all-you-can-eat\n",
            "Fill up your bag and I fill up a plate (Mm)\n",
            "We talk for hours and hours about the sweet and the sour\n",
            "And how your family is doin' okay (Mm)\n",
            "And leave and get in a taxi, and kiss in the back seat\n",
            "Tell the driver make the radio play and I'm singin' like\n",
            "[Pre-Chorus]\n",
            "Girl, you know I want your love\n",
            "Your love was handmade for somebody like me\n",
            "Well, come on now, follow my lead\n",
            "I may be crazy, don't mind me\n",
            "Say, \"Boy, let's not talk too much\"\n",
            "Grab on my waist and put that body on me\n",
            "Well, come on now, follow my lead\n",
            "Come, come on now, follow my lead, mm\n",
            "[Chorus]\n",
            "I'm in love with the shape of you\n",
            "We push and pull like a magnet do\n",
            "Although my heart is fallin' too\n",
            "I'm in love with your body\n",
            "And last night, you were in my room\n",
            "And now my bed sheets smell like you\n",
            "Every day, discoverin' somethin' brand new\n",
            "Well, I'm in love with your body\n",
            "[Post-Chorus]\n",
            "Oh, I, oh, I, oh, I, oh, I\n",
            "Well, I'm in love with your body\n",
            "Oh, I, oh, I, oh, I, oh, I\n",
            "Well, I'm in love with your body\n",
            "Oh, I, oh, I, oh, I, oh, I\n",
            "Well, I'm in love with your body\n",
            "Every day, discoverin' somethin' brand new\n",
            "I'm in love with the shape of you\n",
            "[Bridge]\n",
            "Come on, be my baby, come on\n",
            "Come on, be my baby, come on\n",
            "Come on, be my baby, come on\n",
            "Come on, be my baby, come on\n",
            "Come on, be my baby, come on\n",
            "Come on, be my baby, come on\n",
            "Come on, be my baby, come on\n",
            "Come on, be my baby, come on\n",
            "[Chorus]\n",
            "I'm in love with the shape of you\n",
            "We push and pull like a magnet do\n",
            "Although my heart is fallin' too\n",
            "I'm in love with your body\n",
            "And last night, you were in my room\n",
            "And now my bed sheets smell like you\n",
            "Every day, discoverin' somethin' brand new\n",
            "Well, I'm in love with your body\n",
            "[Outro]\n",
            "Come on, be my baby, come on\n",
            "Come on, be my baby, come on\n",
            "I'm in love with your body\n",
            "Come on, be my baby, come on\n",
            "Come on, be my baby, come on\n",
            "I'm in love with your body\n",
            "Come on, be my baby, come on\n",
            "Come on, be my baby, come on\n",
            "I'm in love with your body\n",
            "Every day, discoverin' somethin' brand new\n",
            "I'm in love with the shape of you\n",
            "409\n",
            "Embed\n"
          ]
        }
      ]
    },
    {
      "cell_type": "code",
      "source": [
        "import re\n",
        "\n",
        "def clean_lyrics(lyrics):\n",
        "    # Remove contributor mentions\n",
        "    lyrics = re.sub(r'^\\d+\\s+contributors$', '', lyrics, flags=re.MULTILINE)  # Remove lines like \"38 contributors\"\n",
        "    lyrics = re.sub(r'^\\d+\\s+embed$', '', lyrics, flags=re.MULTILINE)  # Remove lines like \"8 embed\"\n",
        "\n",
        "    # Remove lines with section indicators (e.g., \"verse\", \"chorus\", \"bridge\", \"outro\")\n",
        "    lyrics = re.sub(r'^\\s*(verse|chorus|bridge|outro|all)\\s+\\w+', '', lyrics, flags=re.IGNORECASE | re.MULTILINE)\n",
        "\n",
        "    # Remove text within brackets (e.g., [Chorus: Harry])\n",
        "    lyrics = re.sub(r'\\[.*?\\]', '', lyrics)\n",
        "\n",
        "    # Remove extra newlines and leading/trailing whitespace\n",
        "    lyrics = re.sub(r'\\n+', '\\n', lyrics)  # Replace multiple newlines with a single newline\n",
        "    lyrics = lyrics.strip()  # Remove leading/trailing whitespace\n",
        "\n",
        "    # Normalize text: lowercase and remove punctuation\n",
        "    lyrics = lyrics.lower()\n",
        "    lyrics = re.sub(r'[^\\w\\s]', '', lyrics)  # Remove punctuation\n",
        "\n",
        "    return lyrics\n",
        "\n",
        "# Example usage\n",
        "cleaned_lyrics = clean_lyrics(lyrics)\n",
        "print(cleaned_lyrics)\n"
      ],
      "metadata": {
        "colab": {
          "base_uri": "https://localhost:8080/"
        },
        "id": "7UPjqJ1uMG2h",
        "outputId": "d2ed039f-1cf1-4e7a-f915-f01b83c7b333"
      },
      "execution_count": null,
      "outputs": [
        {
          "output_type": "stream",
          "name": "stdout",
          "text": [
            "360 contributors\n",
            "translations\n",
            "türkçe\n",
            "español\n",
            "português\n",
            "ελληνικά\n",
            "deutsch\n",
            "français\n",
            "italiano\n",
            "العربية\n",
            "polski\n",
            "한국어\n",
            "српски\n",
            "shape of you lyrics\n",
            "a club isnt the best place to find a lover\n",
            "so the bar is where i go mm\n",
            "me and my friends at the table doin shots\n",
            "drinkin fast and then we talk slow mm\n",
            "and you come over and start up a conversation with just me\n",
            "and trust me ill give it a chance now mm\n",
            "take my hand stop put van the man on the jukebox\n",
            "and then we start to dance and now im singin like\n",
            "girl you know i want your love\n",
            "your love was handmade for somebody like me\n",
            "well come on now follow my lead\n",
            "i may be crazy dont mind me\n",
            "say boy lets not talk too much\n",
            "grab on my waist and put that body on me\n",
            "well come on now follow my lead\n",
            "come come on now follow my lead mm\n",
            "im in love with the shape of you\n",
            "we push and pull like a magnet do\n",
            "although my heart is fallin too\n",
            "im in love with your body\n",
            "and last night you were in my room\n",
            "and now my bed sheets smell like you\n",
            "every day discoverin somethin brand new\n",
            "well im in love with your body\n",
            "see ed sheeran live\n",
            "get tickets as low as 136\n",
            "you might also like\n",
            "oh i oh i oh i oh i\n",
            "well im in love with your body\n",
            "oh i oh i oh i oh i\n",
            "well im in love with your body\n",
            "oh i oh i oh i oh i\n",
            "well im in love with your body\n",
            "every day discoverin somethin brand new\n",
            "im in love with the shape of you\n",
            "one week in we let the story begin\n",
            "were goin out on our first date mm\n",
            "you and me are thrifty so go allyoucaneat\n",
            "fill up your bag and i fill up a plate mm\n",
            "we talk for hours and hours about the sweet and the sour\n",
            "and how your family is doin okay mm\n",
            "and leave and get in a taxi and kiss in the back seat\n",
            "tell the driver make the radio play and im singin like\n",
            "girl you know i want your love\n",
            "your love was handmade for somebody like me\n",
            "well come on now follow my lead\n",
            "i may be crazy dont mind me\n",
            "say boy lets not talk too much\n",
            "grab on my waist and put that body on me\n",
            "well come on now follow my lead\n",
            "come come on now follow my lead mm\n",
            "im in love with the shape of you\n",
            "we push and pull like a magnet do\n",
            "although my heart is fallin too\n",
            "im in love with your body\n",
            "and last night you were in my room\n",
            "and now my bed sheets smell like you\n",
            "every day discoverin somethin brand new\n",
            "well im in love with your body\n",
            "oh i oh i oh i oh i\n",
            "well im in love with your body\n",
            "oh i oh i oh i oh i\n",
            "well im in love with your body\n",
            "oh i oh i oh i oh i\n",
            "well im in love with your body\n",
            "every day discoverin somethin brand new\n",
            "im in love with the shape of you\n",
            "come on be my baby come on\n",
            "come on be my baby come on\n",
            "come on be my baby come on\n",
            "come on be my baby come on\n",
            "come on be my baby come on\n",
            "come on be my baby come on\n",
            "come on be my baby come on\n",
            "come on be my baby come on\n",
            "im in love with the shape of you\n",
            "we push and pull like a magnet do\n",
            "although my heart is fallin too\n",
            "im in love with your body\n",
            "and last night you were in my room\n",
            "and now my bed sheets smell like you\n",
            "every day discoverin somethin brand new\n",
            "well im in love with your body\n",
            "come on be my baby come on\n",
            "come on be my baby come on\n",
            "im in love with your body\n",
            "come on be my baby come on\n",
            "come on be my baby come on\n",
            "im in love with your body\n",
            "come on be my baby come on\n",
            "come on be my baby come on\n",
            "im in love with your body\n",
            "every day discoverin somethin brand new\n",
            "im in love with the shape of you\n",
            "409\n",
            "embed\n"
          ]
        }
      ]
    },
    {
      "cell_type": "code",
      "source": [
        "pip install nltk textblob vaderSentiment transformers\n"
      ],
      "metadata": {
        "colab": {
          "base_uri": "https://localhost:8080/"
        },
        "id": "zSSVTV9gNJhT",
        "outputId": "054212a8-2f2b-4bce-a4f5-98e2d961f31a"
      },
      "execution_count": null,
      "outputs": [
        {
          "output_type": "stream",
          "name": "stdout",
          "text": [
            "Requirement already satisfied: nltk in /usr/local/lib/python3.10/dist-packages (3.8.1)\n",
            "Requirement already satisfied: textblob in /usr/local/lib/python3.10/dist-packages (0.17.1)\n",
            "Collecting vaderSentiment\n",
            "  Downloading vaderSentiment-3.3.2-py2.py3-none-any.whl.metadata (572 bytes)\n",
            "Requirement already satisfied: transformers in /usr/local/lib/python3.10/dist-packages (4.44.2)\n",
            "Requirement already satisfied: click in /usr/local/lib/python3.10/dist-packages (from nltk) (8.1.7)\n",
            "Requirement already satisfied: joblib in /usr/local/lib/python3.10/dist-packages (from nltk) (1.4.2)\n",
            "Requirement already satisfied: regex>=2021.8.3 in /usr/local/lib/python3.10/dist-packages (from nltk) (2024.9.11)\n",
            "Requirement already satisfied: tqdm in /usr/local/lib/python3.10/dist-packages (from nltk) (4.66.5)\n",
            "Requirement already satisfied: requests in /usr/local/lib/python3.10/dist-packages (from vaderSentiment) (2.32.3)\n",
            "Requirement already satisfied: filelock in /usr/local/lib/python3.10/dist-packages (from transformers) (3.16.1)\n",
            "Requirement already satisfied: huggingface-hub<1.0,>=0.23.2 in /usr/local/lib/python3.10/dist-packages (from transformers) (0.24.7)\n",
            "Requirement already satisfied: numpy>=1.17 in /usr/local/lib/python3.10/dist-packages (from transformers) (1.26.4)\n",
            "Requirement already satisfied: packaging>=20.0 in /usr/local/lib/python3.10/dist-packages (from transformers) (24.1)\n",
            "Requirement already satisfied: pyyaml>=5.1 in /usr/local/lib/python3.10/dist-packages (from transformers) (6.0.2)\n",
            "Requirement already satisfied: safetensors>=0.4.1 in /usr/local/lib/python3.10/dist-packages (from transformers) (0.4.5)\n",
            "Requirement already satisfied: tokenizers<0.20,>=0.19 in /usr/local/lib/python3.10/dist-packages (from transformers) (0.19.1)\n",
            "Requirement already satisfied: fsspec>=2023.5.0 in /usr/local/lib/python3.10/dist-packages (from huggingface-hub<1.0,>=0.23.2->transformers) (2024.6.1)\n",
            "Requirement already satisfied: typing-extensions>=3.7.4.3 in /usr/local/lib/python3.10/dist-packages (from huggingface-hub<1.0,>=0.23.2->transformers) (4.12.2)\n",
            "Requirement already satisfied: charset-normalizer<4,>=2 in /usr/local/lib/python3.10/dist-packages (from requests->vaderSentiment) (3.4.0)\n",
            "Requirement already satisfied: idna<4,>=2.5 in /usr/local/lib/python3.10/dist-packages (from requests->vaderSentiment) (3.10)\n",
            "Requirement already satisfied: urllib3<3,>=1.21.1 in /usr/local/lib/python3.10/dist-packages (from requests->vaderSentiment) (2.2.3)\n",
            "Requirement already satisfied: certifi>=2017.4.17 in /usr/local/lib/python3.10/dist-packages (from requests->vaderSentiment) (2024.8.30)\n",
            "Downloading vaderSentiment-3.3.2-py2.py3-none-any.whl (125 kB)\n",
            "\u001b[2K   \u001b[90m━━━━━━━━━━━━━━━━━━━━━━━━━━━━━━━━━━━━━━━━\u001b[0m \u001b[32m126.0/126.0 kB\u001b[0m \u001b[31m5.2 MB/s\u001b[0m eta \u001b[36m0:00:00\u001b[0m\n",
            "\u001b[?25hInstalling collected packages: vaderSentiment\n",
            "Successfully installed vaderSentiment-3.3.2\n"
          ]
        }
      ]
    },
    {
      "cell_type": "code",
      "source": [
        "import requests\n",
        "from bs4 import BeautifulSoup\n",
        "from vaderSentiment.vaderSentiment import SentimentIntensityAnalyzer\n",
        "import re\n",
        "\n",
        "# Your previous code for fetching and cleaning lyrics goes here...\n",
        "\n",
        "# Cleaned lyrics\n",
        "cleaned_lyrics = clean_lyrics(lyrics)\n",
        "\n",
        "# Initialize VADER sentiment analyzer\n",
        "analyzer = SentimentIntensityAnalyzer()\n",
        "\n",
        "# Analyze the cleaned lyrics\n",
        "scores = analyzer.polarity_scores(cleaned_lyrics)\n",
        "\n",
        "# Print sentiment scores\n",
        "print(\"Sentiment Scores:\", scores)\n",
        "\n",
        "# Categorizing emotions based on compound score\n",
        "if scores['compound'] > 0.05:\n",
        "    emotion = \"Positive (Joy)\"\n",
        "elif scores['compound'] < -0.05:\n",
        "    emotion = \"Negative (Sadness/Anger)\"\n",
        "else:\n",
        "    emotion = \"Neutral\"\n",
        "\n",
        "print(\"Detected Emotion:\", emotion)\n"
      ],
      "metadata": {
        "colab": {
          "base_uri": "https://localhost:8080/"
        },
        "id": "ALR2nnP9NQ-q",
        "outputId": "0eb4940d-3b6a-4cb2-8b76-f3ab187788dc"
      },
      "execution_count": null,
      "outputs": [
        {
          "output_type": "stream",
          "name": "stdout",
          "text": [
            "Sentiment Scores: {'neg': 0.019, 'neu': 0.753, 'pos': 0.228, 'compound': 0.9995}\n",
            "Detected Emotion: Positive (Joy)\n"
          ]
        }
      ]
    },
    {
      "cell_type": "code",
      "source": [
        "!pip install transformers torch\n"
      ],
      "metadata": {
        "colab": {
          "base_uri": "https://localhost:8080/"
        },
        "id": "w8rf85LQNfVF",
        "outputId": "b3eb7f39-b339-4d4f-b3da-863616679558"
      },
      "execution_count": null,
      "outputs": [
        {
          "output_type": "stream",
          "name": "stdout",
          "text": [
            "Requirement already satisfied: transformers in /usr/local/lib/python3.10/dist-packages (4.44.2)\n",
            "Requirement already satisfied: torch in /usr/local/lib/python3.10/dist-packages (2.4.1+cu121)\n",
            "Requirement already satisfied: filelock in /usr/local/lib/python3.10/dist-packages (from transformers) (3.16.1)\n",
            "Requirement already satisfied: huggingface-hub<1.0,>=0.23.2 in /usr/local/lib/python3.10/dist-packages (from transformers) (0.24.7)\n",
            "Requirement already satisfied: numpy>=1.17 in /usr/local/lib/python3.10/dist-packages (from transformers) (1.26.4)\n",
            "Requirement already satisfied: packaging>=20.0 in /usr/local/lib/python3.10/dist-packages (from transformers) (24.1)\n",
            "Requirement already satisfied: pyyaml>=5.1 in /usr/local/lib/python3.10/dist-packages (from transformers) (6.0.2)\n",
            "Requirement already satisfied: regex!=2019.12.17 in /usr/local/lib/python3.10/dist-packages (from transformers) (2024.9.11)\n",
            "Requirement already satisfied: requests in /usr/local/lib/python3.10/dist-packages (from transformers) (2.32.3)\n",
            "Requirement already satisfied: safetensors>=0.4.1 in /usr/local/lib/python3.10/dist-packages (from transformers) (0.4.5)\n",
            "Requirement already satisfied: tokenizers<0.20,>=0.19 in /usr/local/lib/python3.10/dist-packages (from transformers) (0.19.1)\n",
            "Requirement already satisfied: tqdm>=4.27 in /usr/local/lib/python3.10/dist-packages (from transformers) (4.66.5)\n",
            "Requirement already satisfied: typing-extensions>=4.8.0 in /usr/local/lib/python3.10/dist-packages (from torch) (4.12.2)\n",
            "Requirement already satisfied: sympy in /usr/local/lib/python3.10/dist-packages (from torch) (1.13.3)\n",
            "Requirement already satisfied: networkx in /usr/local/lib/python3.10/dist-packages (from torch) (3.4.1)\n",
            "Requirement already satisfied: jinja2 in /usr/local/lib/python3.10/dist-packages (from torch) (3.1.4)\n",
            "Requirement already satisfied: fsspec in /usr/local/lib/python3.10/dist-packages (from torch) (2024.6.1)\n",
            "Requirement already satisfied: MarkupSafe>=2.0 in /usr/local/lib/python3.10/dist-packages (from jinja2->torch) (3.0.1)\n",
            "Requirement already satisfied: charset-normalizer<4,>=2 in /usr/local/lib/python3.10/dist-packages (from requests->transformers) (3.4.0)\n",
            "Requirement already satisfied: idna<4,>=2.5 in /usr/local/lib/python3.10/dist-packages (from requests->transformers) (3.10)\n",
            "Requirement already satisfied: urllib3<3,>=1.21.1 in /usr/local/lib/python3.10/dist-packages (from requests->transformers) (2.2.3)\n",
            "Requirement already satisfied: certifi>=2017.4.17 in /usr/local/lib/python3.10/dist-packages (from requests->transformers) (2024.8.30)\n",
            "Requirement already satisfied: mpmath<1.4,>=1.1.0 in /usr/local/lib/python3.10/dist-packages (from sympy->torch) (1.3.0)\n"
          ]
        }
      ]
    },
    {
      "cell_type": "code",
      "source": [
        "import os\n",
        "import torch\n",
        "from transformers import pipeline, AutoTokenizer\n",
        "\n",
        "# Debug: Set CUDA_LAUNCH_BLOCKING to 1\n",
        "os.environ[\"CUDA_LAUNCH_BLOCKING\"] = \"1\"\n",
        "\n",
        "# Check if GPU is available and print device name\n",
        "if torch.cuda.is_available():\n",
        "    print(\"GPU Available:\", torch.cuda.get_device_name(0))\n",
        "else:\n",
        "    print(\"No GPU found, falling back to CPU.\")\n",
        "\n",
        "# Load the emotion detection model and tokenizer\n",
        "# Use CPU if CUDA error persists (device=-1)\n",
        "try:\n",
        "    emotion_model = pipeline(\"text-classification\", model=\"j-hartmann/emotion-english-distilroberta-base\", device=0)\n",
        "except RuntimeError:\n",
        "    print(\"CUDA error occurred, switching to CPU.\")\n",
        "    emotion_model = pipeline(\"text-classification\", model=\"j-hartmann/emotion-english-distilroberta-base\", device=-1)\n",
        "\n",
        "tokenizer = AutoTokenizer.from_pretrained(\"j-hartmann/emotion-english-distilroberta-base\")\n",
        "\n",
        "# Function to split text based on tokenization and enforce truncation\n",
        "def chunk_text(text, tokenizer, max_length=512):\n",
        "    tokens = tokenizer(text, return_tensors=\"pt\", truncation=False)[\"input_ids\"][0]\n",
        "    chunks = [tokens[i:i+max_length] for i in range(0, len(tokens), max_length)]\n",
        "    return [tokenizer.decode(chunk, skip_special_tokens=True) for chunk in chunks]\n",
        "\n",
        "# Assuming 'cleaned_lyrics' contains the lyrics\n",
        "# Split the lyrics into chunks based on tokens\n",
        "chunked_lyrics = chunk_text(cleaned_lyrics, tokenizer)\n",
        "\n",
        "# Detect emotions in each chunk and aggregate the results\n",
        "emotions = []\n",
        "for chunk in chunked_lyrics:\n",
        "    chunk_emotions = emotion_model(chunk, truncation=True)\n",
        "    emotions.extend(chunk_emotions)\n",
        "\n",
        "# Print the detected emotions\n",
        "print(\"Detected Emotions:\", emotions)\n"
      ],
      "metadata": {
        "colab": {
          "base_uri": "https://localhost:8080/"
        },
        "id": "TxEiC3z6Nv2Q",
        "outputId": "6d3a4374-92e2-461f-eec9-806f08b4d3c6"
      },
      "execution_count": null,
      "outputs": [
        {
          "output_type": "stream",
          "name": "stdout",
          "text": [
            "GPU Available: Tesla T4\n",
            "CUDA error occurred, switching to CPU.\n"
          ]
        },
        {
          "output_type": "stream",
          "name": "stderr",
          "text": [
            "Token indices sequence length is longer than the specified maximum sequence length for this model (920 > 512). Running this sequence through the model will result in indexing errors\n"
          ]
        },
        {
          "output_type": "stream",
          "name": "stdout",
          "text": [
            "Detected Emotions: [{'label': 'neutral', 'score': 0.5135073065757751}, {'label': 'surprise', 'score': 0.3349520266056061}]\n"
          ]
        }
      ]
    },
    {
      "cell_type": "code",
      "source": [
        "def analyze_emotion_intensity(emotions):\n",
        "    intensity_scores = {}\n",
        "\n",
        "    # Iterate through detected emotions\n",
        "    for emotion in emotions:\n",
        "        # The model returns a label and a score (probability)\n",
        "        label = emotion['label']\n",
        "        score = emotion['score']\n",
        "\n",
        "        # Set intensity level based on score\n",
        "        if score >= 0.75:\n",
        "            intensity = \"high\"\n",
        "        elif score >= 0.5:\n",
        "            intensity = \"medium\"\n",
        "        else:\n",
        "            intensity = \"low\"\n",
        "\n",
        "        intensity_scores[label] = {\n",
        "            \"score\": score,\n",
        "            \"intensity\": intensity\n",
        "        }\n",
        "\n",
        "    return intensity_scores\n",
        "\n",
        "# Analyze the intensity of detected emotions\n",
        "intensity_results = analyze_emotion_intensity(emotions)\n",
        "\n",
        "# Print the intensity results\n",
        "print(\"Emotion Intensity Results:\", intensity_results)\n"
      ],
      "metadata": {
        "id": "GM-oUQJJOCmc",
        "colab": {
          "base_uri": "https://localhost:8080/"
        },
        "outputId": "b3a0fbf3-ab6b-451d-fb48-fc1a48f443e9"
      },
      "execution_count": null,
      "outputs": [
        {
          "output_type": "stream",
          "name": "stdout",
          "text": [
            "Emotion Intensity Results: {'neutral': {'score': 0.5135073065757751, 'intensity': 'medium'}, 'surprise': {'score': 0.3349520266056061, 'intensity': 'low'}}\n"
          ]
        }
      ]
    },
    {
      "cell_type": "code",
      "source": [
        "!pip install matplotlib"
      ],
      "metadata": {
        "colab": {
          "base_uri": "https://localhost:8080/"
        },
        "id": "YyyzeBVfPAES",
        "outputId": "763068ff-69c6-46ea-b572-deea1fe360af"
      },
      "execution_count": null,
      "outputs": [
        {
          "output_type": "stream",
          "name": "stdout",
          "text": [
            "Requirement already satisfied: matplotlib in /usr/local/lib/python3.10/dist-packages (3.7.1)\n",
            "Requirement already satisfied: contourpy>=1.0.1 in /usr/local/lib/python3.10/dist-packages (from matplotlib) (1.3.0)\n",
            "Requirement already satisfied: cycler>=0.10 in /usr/local/lib/python3.10/dist-packages (from matplotlib) (0.12.1)\n",
            "Requirement already satisfied: fonttools>=4.22.0 in /usr/local/lib/python3.10/dist-packages (from matplotlib) (4.54.1)\n",
            "Requirement already satisfied: kiwisolver>=1.0.1 in /usr/local/lib/python3.10/dist-packages (from matplotlib) (1.4.7)\n",
            "Requirement already satisfied: numpy>=1.20 in /usr/local/lib/python3.10/dist-packages (from matplotlib) (1.26.4)\n",
            "Requirement already satisfied: packaging>=20.0 in /usr/local/lib/python3.10/dist-packages (from matplotlib) (24.1)\n",
            "Requirement already satisfied: pillow>=6.2.0 in /usr/local/lib/python3.10/dist-packages (from matplotlib) (10.4.0)\n",
            "Requirement already satisfied: pyparsing>=2.3.1 in /usr/local/lib/python3.10/dist-packages (from matplotlib) (3.2.0)\n",
            "Requirement already satisfied: python-dateutil>=2.7 in /usr/local/lib/python3.10/dist-packages (from matplotlib) (2.8.2)\n",
            "Requirement already satisfied: six>=1.5 in /usr/local/lib/python3.10/dist-packages (from python-dateutil>=2.7->matplotlib) (1.16.0)\n"
          ]
        }
      ]
    },
    {
      "cell_type": "code",
      "source": [
        "import matplotlib.pyplot as plt\n",
        "\n",
        "def plot_emotion_intensity(intensity_results):\n",
        "    # Prepare data for plotting\n",
        "    emotions = list(intensity_results.keys())\n",
        "    scores = [result[\"score\"] for result in intensity_results.values()]\n",
        "    intensities = [result[\"intensity\"] for result in intensity_results.values()]\n",
        "\n",
        "    # Create a bar chart\n",
        "    plt.figure(figsize=(10, 5))\n",
        "    plt.bar(emotions, scores, color=['blue' if intensity == \"high\" else 'orange' if intensity == \"medium\" else 'gray' for intensity in intensities])\n",
        "    plt.title(\"Emotion Intensity in Lyrics\")\n",
        "    plt.xlabel(\"Emotions\")\n",
        "    plt.ylabel(\"Scores\")\n",
        "    plt.xticks(rotation=45)\n",
        "    plt.ylim(0, 1)\n",
        "    plt.show()\n",
        "\n",
        "# Call the function to plot emotion intensity\n",
        "plot_emotion_intensity(intensity_results)\n"
      ],
      "metadata": {
        "colab": {
          "base_uri": "https://localhost:8080/",
          "height": 522
        },
        "id": "Wb5toTRjPCPS",
        "outputId": "8a7882ce-e57d-4dd5-ae84-c13972086caa"
      },
      "execution_count": null,
      "outputs": [
        {
          "output_type": "display_data",
          "data": {
            "text/plain": [
              "<Figure size 1000x500 with 1 Axes>"
            ],
            "image/png": "[encoded data removed]"
          },
          "metadata": {}
        }
      ]
    }
  ]
}